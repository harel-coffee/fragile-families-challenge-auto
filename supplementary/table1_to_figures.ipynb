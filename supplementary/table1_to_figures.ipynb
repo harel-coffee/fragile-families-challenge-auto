{
 "cells": [
  {
   "cell_type": "code",
   "execution_count": 2,
   "metadata": {},
   "outputs": [],
   "source": [
    "import math\n",
    "import matplotlib.pyplot as plt\n",
    "import numpy as np\n",
    "%matplotlib inline\n",
    "plt.rcParams[\"figure.figsize\"] = (9,6)\n",
    "%config InlineBackend.figure_format = 'retina'\n",
    "plt.rc('pdf', fonttype=42)\n",
    "plt.rcParams['ps.useafm'] = True\n",
    "plt.rcParams['pdf.use14corefonts'] = True\n",
    "plt.rcParams['text.usetex'] = True\n",
    "plt.rcParams['font.serif'] = 'Times'\n",
    "plt.rcParams['font.family'] = 'serif'"
   ]
  },
  {
   "cell_type": "code",
   "execution_count": 3,
   "metadata": {},
   "outputs": [],
   "source": [
    "import pandas as pd"
   ]
  },
  {
   "cell_type": "code",
   "execution_count": 9,
   "metadata": {},
   "outputs": [],
   "source": [
    "df = pd.read_csv('../results/model_params_and_results.csv')"
   ]
  },
  {
   "cell_type": "code",
   "execution_count": 10,
   "metadata": {},
   "outputs": [],
   "source": [
    "df['score'] = [abs(x) for x in df['score']]"
   ]
  },
  {
   "cell_type": "code",
   "execution_count": 11,
   "metadata": {},
   "outputs": [
    {
     "data": {
      "text/html": [
       "<div>\n",
       "<style>\n",
       "    .dataframe thead tr:only-child th {\n",
       "        text-align: right;\n",
       "    }\n",
       "\n",
       "    .dataframe thead th {\n",
       "        text-align: left;\n",
       "    }\n",
       "\n",
       "    .dataframe tbody tr th {\n",
       "        vertical-align: top;\n",
       "    }\n",
       "</style>\n",
       "<table border=\"1\" class=\"dataframe\">\n",
       "  <thead>\n",
       "    <tr style=\"text-align: right;\">\n",
       "      <th></th>\n",
       "      <th>num_hidden_layers</th>\n",
       "      <th>hidden_layer_size</th>\n",
       "      <th>activation_function</th>\n",
       "      <th>score</th>\n",
       "    </tr>\n",
       "  </thead>\n",
       "  <tbody>\n",
       "    <tr>\n",
       "      <th>0</th>\n",
       "      <td>0</td>\n",
       "      <td>0</td>\n",
       "      <td>linear</td>\n",
       "      <td>2.584747</td>\n",
       "    </tr>\n",
       "    <tr>\n",
       "      <th>1</th>\n",
       "      <td>0</td>\n",
       "      <td>0</td>\n",
       "      <td>relu</td>\n",
       "      <td>7.227311</td>\n",
       "    </tr>\n",
       "    <tr>\n",
       "      <th>2</th>\n",
       "      <td>0</td>\n",
       "      <td>0</td>\n",
       "      <td>sigmoid</td>\n",
       "      <td>3.625803</td>\n",
       "    </tr>\n",
       "    <tr>\n",
       "      <th>3</th>\n",
       "      <td>0</td>\n",
       "      <td>0</td>\n",
       "      <td>tanh</td>\n",
       "      <td>3.625803</td>\n",
       "    </tr>\n",
       "    <tr>\n",
       "      <th>4</th>\n",
       "      <td>1</td>\n",
       "      <td>64</td>\n",
       "      <td>linear</td>\n",
       "      <td>0.289578</td>\n",
       "    </tr>\n",
       "    <tr>\n",
       "      <th>5</th>\n",
       "      <td>1</td>\n",
       "      <td>64</td>\n",
       "      <td>relu</td>\n",
       "      <td>0.497862</td>\n",
       "    </tr>\n",
       "    <tr>\n",
       "      <th>6</th>\n",
       "      <td>1</td>\n",
       "      <td>64</td>\n",
       "      <td>sigmoid</td>\n",
       "      <td>0.297948</td>\n",
       "    </tr>\n",
       "    <tr>\n",
       "      <th>7</th>\n",
       "      <td>1</td>\n",
       "      <td>64</td>\n",
       "      <td>tanh</td>\n",
       "      <td>0.310448</td>\n",
       "    </tr>\n",
       "    <tr>\n",
       "      <th>8</th>\n",
       "      <td>1</td>\n",
       "      <td>128</td>\n",
       "      <td>linear</td>\n",
       "      <td>0.279975</td>\n",
       "    </tr>\n",
       "    <tr>\n",
       "      <th>9</th>\n",
       "      <td>1</td>\n",
       "      <td>128</td>\n",
       "      <td>relu</td>\n",
       "      <td>0.259806</td>\n",
       "    </tr>\n",
       "    <tr>\n",
       "      <th>10</th>\n",
       "      <td>1</td>\n",
       "      <td>128</td>\n",
       "      <td>sigmoid</td>\n",
       "      <td>0.277095</td>\n",
       "    </tr>\n",
       "    <tr>\n",
       "      <th>11</th>\n",
       "      <td>1</td>\n",
       "      <td>128</td>\n",
       "      <td>tanh</td>\n",
       "      <td>0.309183</td>\n",
       "    </tr>\n",
       "    <tr>\n",
       "      <th>12</th>\n",
       "      <td>1</td>\n",
       "      <td>256</td>\n",
       "      <td>linear</td>\n",
       "      <td>0.542272</td>\n",
       "    </tr>\n",
       "    <tr>\n",
       "      <th>13</th>\n",
       "      <td>1</td>\n",
       "      <td>256</td>\n",
       "      <td>relu</td>\n",
       "      <td>0.324746</td>\n",
       "    </tr>\n",
       "    <tr>\n",
       "      <th>14</th>\n",
       "      <td>1</td>\n",
       "      <td>256</td>\n",
       "      <td>sigmoid</td>\n",
       "      <td>0.255906</td>\n",
       "    </tr>\n",
       "    <tr>\n",
       "      <th>15</th>\n",
       "      <td>1</td>\n",
       "      <td>256</td>\n",
       "      <td>tanh</td>\n",
       "      <td>0.304221</td>\n",
       "    </tr>\n",
       "    <tr>\n",
       "      <th>16</th>\n",
       "      <td>2</td>\n",
       "      <td>64</td>\n",
       "      <td>linear</td>\n",
       "      <td>0.275565</td>\n",
       "    </tr>\n",
       "    <tr>\n",
       "      <th>17</th>\n",
       "      <td>2</td>\n",
       "      <td>64</td>\n",
       "      <td>relu</td>\n",
       "      <td>0.350884</td>\n",
       "    </tr>\n",
       "    <tr>\n",
       "      <th>18</th>\n",
       "      <td>2</td>\n",
       "      <td>64</td>\n",
       "      <td>sigmoid</td>\n",
       "      <td>0.305775</td>\n",
       "    </tr>\n",
       "    <tr>\n",
       "      <th>19</th>\n",
       "      <td>2</td>\n",
       "      <td>64</td>\n",
       "      <td>tanh</td>\n",
       "      <td>0.309397</td>\n",
       "    </tr>\n",
       "    <tr>\n",
       "      <th>20</th>\n",
       "      <td>2</td>\n",
       "      <td>128</td>\n",
       "      <td>linear</td>\n",
       "      <td>0.269394</td>\n",
       "    </tr>\n",
       "    <tr>\n",
       "      <th>21</th>\n",
       "      <td>2</td>\n",
       "      <td>128</td>\n",
       "      <td>relu</td>\n",
       "      <td>0.565389</td>\n",
       "    </tr>\n",
       "    <tr>\n",
       "      <th>22</th>\n",
       "      <td>2</td>\n",
       "      <td>128</td>\n",
       "      <td>sigmoid</td>\n",
       "      <td>0.286249</td>\n",
       "    </tr>\n",
       "    <tr>\n",
       "      <th>23</th>\n",
       "      <td>2</td>\n",
       "      <td>128</td>\n",
       "      <td>tanh</td>\n",
       "      <td>0.308745</td>\n",
       "    </tr>\n",
       "    <tr>\n",
       "      <th>24</th>\n",
       "      <td>2</td>\n",
       "      <td>256</td>\n",
       "      <td>linear</td>\n",
       "      <td>1.954614</td>\n",
       "    </tr>\n",
       "    <tr>\n",
       "      <th>25</th>\n",
       "      <td>2</td>\n",
       "      <td>256</td>\n",
       "      <td>relu</td>\n",
       "      <td>0.851779</td>\n",
       "    </tr>\n",
       "    <tr>\n",
       "      <th>26</th>\n",
       "      <td>2</td>\n",
       "      <td>256</td>\n",
       "      <td>sigmoid</td>\n",
       "      <td>0.265914</td>\n",
       "    </tr>\n",
       "    <tr>\n",
       "      <th>27</th>\n",
       "      <td>2</td>\n",
       "      <td>256</td>\n",
       "      <td>tanh</td>\n",
       "      <td>0.378844</td>\n",
       "    </tr>\n",
       "    <tr>\n",
       "      <th>28</th>\n",
       "      <td>3</td>\n",
       "      <td>64</td>\n",
       "      <td>linear</td>\n",
       "      <td>0.301218</td>\n",
       "    </tr>\n",
       "    <tr>\n",
       "      <th>29</th>\n",
       "      <td>3</td>\n",
       "      <td>64</td>\n",
       "      <td>relu</td>\n",
       "      <td>0.314987</td>\n",
       "    </tr>\n",
       "    <tr>\n",
       "      <th>30</th>\n",
       "      <td>3</td>\n",
       "      <td>64</td>\n",
       "      <td>sigmoid</td>\n",
       "      <td>0.291307</td>\n",
       "    </tr>\n",
       "    <tr>\n",
       "      <th>31</th>\n",
       "      <td>3</td>\n",
       "      <td>64</td>\n",
       "      <td>tanh</td>\n",
       "      <td>0.310032</td>\n",
       "    </tr>\n",
       "    <tr>\n",
       "      <th>32</th>\n",
       "      <td>3</td>\n",
       "      <td>128</td>\n",
       "      <td>linear</td>\n",
       "      <td>0.259853</td>\n",
       "    </tr>\n",
       "    <tr>\n",
       "      <th>33</th>\n",
       "      <td>3</td>\n",
       "      <td>128</td>\n",
       "      <td>relu</td>\n",
       "      <td>0.329742</td>\n",
       "    </tr>\n",
       "    <tr>\n",
       "      <th>34</th>\n",
       "      <td>3</td>\n",
       "      <td>128</td>\n",
       "      <td>sigmoid</td>\n",
       "      <td>0.281479</td>\n",
       "    </tr>\n",
       "    <tr>\n",
       "      <th>35</th>\n",
       "      <td>3</td>\n",
       "      <td>128</td>\n",
       "      <td>tanh</td>\n",
       "      <td>0.316033</td>\n",
       "    </tr>\n",
       "    <tr>\n",
       "      <th>36</th>\n",
       "      <td>3</td>\n",
       "      <td>256</td>\n",
       "      <td>linear</td>\n",
       "      <td>27.577955</td>\n",
       "    </tr>\n",
       "    <tr>\n",
       "      <th>37</th>\n",
       "      <td>3</td>\n",
       "      <td>256</td>\n",
       "      <td>relu</td>\n",
       "      <td>0.519604</td>\n",
       "    </tr>\n",
       "    <tr>\n",
       "      <th>38</th>\n",
       "      <td>3</td>\n",
       "      <td>256</td>\n",
       "      <td>sigmoid</td>\n",
       "      <td>0.266296</td>\n",
       "    </tr>\n",
       "    <tr>\n",
       "      <th>39</th>\n",
       "      <td>3</td>\n",
       "      <td>256</td>\n",
       "      <td>tanh</td>\n",
       "      <td>0.339618</td>\n",
       "    </tr>\n",
       "  </tbody>\n",
       "</table>\n",
       "</div>"
      ],
      "text/plain": [
       "    num_hidden_layers  hidden_layer_size activation_function      score\n",
       "0                   0                  0              linear   2.584747\n",
       "1                   0                  0                relu   7.227311\n",
       "2                   0                  0             sigmoid   3.625803\n",
       "3                   0                  0                tanh   3.625803\n",
       "4                   1                 64              linear   0.289578\n",
       "5                   1                 64                relu   0.497862\n",
       "6                   1                 64             sigmoid   0.297948\n",
       "7                   1                 64                tanh   0.310448\n",
       "8                   1                128              linear   0.279975\n",
       "9                   1                128                relu   0.259806\n",
       "10                  1                128             sigmoid   0.277095\n",
       "11                  1                128                tanh   0.309183\n",
       "12                  1                256              linear   0.542272\n",
       "13                  1                256                relu   0.324746\n",
       "14                  1                256             sigmoid   0.255906\n",
       "15                  1                256                tanh   0.304221\n",
       "16                  2                 64              linear   0.275565\n",
       "17                  2                 64                relu   0.350884\n",
       "18                  2                 64             sigmoid   0.305775\n",
       "19                  2                 64                tanh   0.309397\n",
       "20                  2                128              linear   0.269394\n",
       "21                  2                128                relu   0.565389\n",
       "22                  2                128             sigmoid   0.286249\n",
       "23                  2                128                tanh   0.308745\n",
       "24                  2                256              linear   1.954614\n",
       "25                  2                256                relu   0.851779\n",
       "26                  2                256             sigmoid   0.265914\n",
       "27                  2                256                tanh   0.378844\n",
       "28                  3                 64              linear   0.301218\n",
       "29                  3                 64                relu   0.314987\n",
       "30                  3                 64             sigmoid   0.291307\n",
       "31                  3                 64                tanh   0.310032\n",
       "32                  3                128              linear   0.259853\n",
       "33                  3                128                relu   0.329742\n",
       "34                  3                128             sigmoid   0.281479\n",
       "35                  3                128                tanh   0.316033\n",
       "36                  3                256              linear  27.577955\n",
       "37                  3                256                relu   0.519604\n",
       "38                  3                256             sigmoid   0.266296\n",
       "39                  3                256                tanh   0.339618"
      ]
     },
     "execution_count": 11,
     "metadata": {},
     "output_type": "execute_result"
    }
   ],
   "source": [
    "df"
   ]
  },
  {
   "cell_type": "markdown",
   "metadata": {},
   "source": [
    "# Plotting the results in a more interpretable fashion"
   ]
  },
  {
   "cell_type": "markdown",
   "metadata": {},
   "source": [
    "# Number of hidden layers"
   ]
  },
  {
   "cell_type": "markdown",
   "metadata": {},
   "source": [
    "First create a new version of the dataframe where we filter out MSE values > 1"
   ]
  },
  {
   "cell_type": "code",
   "execution_count": 122,
   "metadata": {},
   "outputs": [],
   "source": [
    "df_ = df[df['score'] <= 1.0]"
   ]
  },
  {
   "cell_type": "code",
   "execution_count": 123,
   "metadata": {},
   "outputs": [
    {
     "data": {
      "text/plain": [
       "<Container object of 3 artists>"
      ]
     },
     "execution_count": 123,
     "metadata": {},
     "output_type": "execute_result"
    },
    {
     "data": {
      "image/png": "[encoded data removed]",
      "text/plain": [
       "<matplotlib.figure.Figure at 0x122664e10>"
      ]
     },
     "metadata": {
      "image/png": {
       "height": 383,
       "width": 538
      }
     },
     "output_type": "display_data"
    }
   ],
   "source": [
    "x = [1, 2, 3]\n",
    "y = [df_.query('num_hidden_layers == 1')['score'].mean(),\n",
    "                      df_.query('num_hidden_layers == 2')['score'].mean(),\n",
    "                      df_.query('num_hidden_layers == 3')['score'].mean()]\n",
    "e = [df_.query('num_hidden_layers == 1')['score'].sem(),\n",
    "                      df_.query('num_hidden_layers == 2')['score'].sem(),\n",
    "                      df_.query('num_hidden_layers == 3')['score'].sem()]\n",
    "plt.scatter(df_['num_hidden_layers'], df_['score'], alpha=0.4)\n",
    "plt.xticks([1,2,3])\n",
    "plt.xlabel(\"Number of hidden layers\")\n",
    "plt.xlabel(\"MSE\")\n",
    "plt.title('MSE by number of hidden layers')\n",
    "plt.errorbar(x, y, yerr=e, fmt='o', color='black')"
   ]
  },
  {
   "cell_type": "markdown",
   "metadata": {},
   "source": [
    "# Hidden layer size"
   ]
  },
  {
   "cell_type": "code",
   "execution_count": 77,
   "metadata": {},
   "outputs": [
    {
     "name": "stderr",
     "output_type": "stream",
     "text": [
      "/usr/local/lib/python3.6/site-packages/ipykernel_launcher.py:2: SettingWithCopyWarning: \n",
      "A value is trying to be set on a copy of a slice from a DataFrame.\n",
      "Try using .loc[row_indexer,col_indexer] = value instead\n",
      "\n",
      "See the caveats in the documentation: http://pandas.pydata.org/pandas-docs/stable/indexing.html#indexing-view-versus-copy\n",
      "  \n"
     ]
    }
   ],
   "source": [
    "hidden_layer_size_map = {64:0, 128: 1, 256: 2}\n",
    "df_['hidden_layer_size_numeric'] = [hidden_layer_size_map[x] for x in list(df_['hidden_layer_size'])]"
   ]
  },
  {
   "cell_type": "code",
   "execution_count": null,
   "metadata": {},
   "outputs": [],
   "source": []
  },
  {
   "cell_type": "code",
   "execution_count": null,
   "metadata": {},
   "outputs": [],
   "source": [
    "plt.scatter(df_['num_hidden_layers'], df_['score'], alpha=0.5)\n",
    "plt.scatter(pd.DataFrame([1,2,3]), [df_.query('num_hidden_layers == 1')['score'].mean(),\n",
    "                      df_.query('num_hidden_layers == 2')['score'].mean(),\n",
    "                      df_.query('num_hidden_layers == 3')['score'].mean()])\n",
    "plt.xticks([1,2,3])\n",
    "plt.xlabel(\"Number of hidden layers\")\n",
    "plt.xlabel(\"MSE\")\n",
    "plt.title('MSE by number of hidden layers')"
   ]
  },
  {
   "cell_type": "code",
   "execution_count": 97,
   "metadata": {},
   "outputs": [
    {
     "name": "stderr",
     "output_type": "stream",
     "text": [
      "/usr/local/lib/python3.6/site-packages/ipykernel_launcher.py:2: SettingWithCopyWarning: \n",
      "A value is trying to be set on a copy of a slice from a DataFrame.\n",
      "Try using .loc[row_indexer,col_indexer] = value instead\n",
      "\n",
      "See the caveats in the documentation: http://pandas.pydata.org/pandas-docs/stable/indexing.html#indexing-view-versus-copy\n",
      "  \n"
     ]
    }
   ],
   "source": [
    "hidden_layer_size_map = {64:0, 128: 1, 256: 2}\n",
    "df_['hidden_layer_size_numeric'] = [hidden_layer_size_map[x] for x in list(df_['hidden_layer_size'])]"
   ]
  },
  {
   "cell_type": "code",
   "execution_count": 119,
   "metadata": {},
   "outputs": [
    {
     "data": {
      "text/plain": [
       "<Container object of 3 artists>"
      ]
     },
     "execution_count": 119,
     "metadata": {},
     "output_type": "execute_result"
    },
    {
     "data": {
      "image/png": "[encoded data removed]",
      "text/plain": [
       "<matplotlib.figure.Figure at 0x11f8dd6a0>"
      ]
     },
     "metadata": {
      "image/png": {
       "height": 383,
       "width": 550
      }
     },
     "output_type": "display_data"
    }
   ],
   "source": [
    "#fig, ax = plt.subplots()\n",
    "# zero is again omitted\n",
    "x = [0, 1, 2]\n",
    "y = [df_.query('hidden_layer_size == 64')['score'].mean(),\n",
    "            df_.query('hidden_layer_size == 128')['score'].mean(),\n",
    "            df_.query('hidden_layer_size == 256')['score'].mean()]\n",
    "e = [df_.query('hidden_layer_size == 64')['score'].sem(),\n",
    "            df_.query('hidden_layer_size == 128')['score'].sem(),\n",
    "            df_.query('hidden_layer_size == 256')['score'].sem()]\n",
    "plt.scatter(df_['hidden_layer_size_numeric'], df_['score'], alpha=0.5)\n",
    "plt.xticks( range(3), ('64','128', '256'))\n",
    "plt.xlabel(\"Number of nodes in hidden layers\")\n",
    "plt.ylabel(\"MSE\")\n",
    "plt.title(\"MSE by number of hidden layer size\")\n",
    "plt.errorbar(x, y, yerr=e, fmt='o', color='black')"
   ]
  },
  {
   "cell_type": "markdown",
   "metadata": {},
   "source": [
    "# Activation function"
   ]
  },
  {
   "cell_type": "code",
   "execution_count": 53,
   "metadata": {},
   "outputs": [
    {
     "name": "stderr",
     "output_type": "stream",
     "text": [
      "/usr/local/lib/python3.6/site-packages/ipykernel_launcher.py:2: SettingWithCopyWarning: \n",
      "A value is trying to be set on a copy of a slice from a DataFrame.\n",
      "Try using .loc[row_indexer,col_indexer] = value instead\n",
      "\n",
      "See the caveats in the documentation: http://pandas.pydata.org/pandas-docs/stable/indexing.html#indexing-view-versus-copy\n",
      "  \n"
     ]
    }
   ],
   "source": [
    "activation_function_map = {'linear':0, 'sigmoid': 1, 'tanh': 2, 'relu': 3}\n",
    "df_['activation_function_numeric'] = [activation_function_map[x] for x in list(df_['activation_function'])]"
   ]
  },
  {
   "cell_type": "code",
   "execution_count": 120,
   "metadata": {},
   "outputs": [],
   "source": [
    "#fig, ax = plt.subplots()\n",
    "# zero is again omitted\n",
    "x = [0, 1, 2, 3]\n",
    "y = [df_.query('activation_function == \"linear\"')['score'].mean(),\n",
    "            df_.query('activation_function == \"sigmoid\"')['score'].mean(),\n",
    "            df_.query('activation_function == \"tanh\"')['score'].mean(),\n",
    "            df_.query('activation_function == \"relu\"')['score'].mean()]\n",
    "e = [df_.query('activation_function == \"linear\"')['score'].sem(),\n",
    "            df_.query('activation_function == \"sigmoid\"')['score'].sem(),\n",
    "            df_.query('activation_function == \"tanh\"')['score'].sem(),\n",
    "            df_.query('activation_function == \"relu\"')['score'].sem()]"
   ]
  },
  {
   "cell_type": "code",
   "execution_count": 121,
   "metadata": {},
   "outputs": [
    {
     "data": {
      "text/plain": [
       "<Container object of 3 artists>"
      ]
     },
     "execution_count": 121,
     "metadata": {},
     "output_type": "execute_result"
    },
    {
     "data": {
      "image/png": "[encoded data removed]",
      "text/plain": [
       "<matplotlib.figure.Figure at 0x1221ec940>"
      ]
     },
     "metadata": {
      "image/png": {
       "height": 383,
       "width": 550
      }
     },
     "output_type": "display_data"
    }
   ],
   "source": [
    "fig, ax = plt.subplots()\n",
    "# zero is again omitted\n",
    "\n",
    "plt.scatter(df_['activation_function_numeric'], df_['score'], alpha=0.5)\n",
    "plt.scatter(pd.DataFrame([0,1,2,3]), \n",
    "            [df_.query('activation_function == \"linear\"')['score'].mean(),\n",
    "            df_.query('activation_function == \"sigmoid\"')['score'].mean(),\n",
    "            df_.query('activation_function == \"tanh\"')['score'].mean(),\n",
    "            df_.query('activation_function == \"relu\"')['score'].mean()])\n",
    "plt.xticks( range(4), ('Linear','Sigmoid', 'Tanh', 'ReLU',''))\n",
    "plt.xlabel(\"Number of nodes in hidden layers\")\n",
    "plt.xlabel(\"Activation function\")\n",
    "plt.ylabel(\"MSE\")\n",
    "plt.title(\"MSE by activation function\")\n",
    "plt.errorbar(x, y, yerr=e, fmt='o', color='black')"
   ]
  },
  {
   "cell_type": "markdown",
   "metadata": {},
   "source": [
    "Overall we see much narrower error bars for the sigmoid and tanh activations, suggesting that they tend to perform much more consistently. "
   ]
  }
 ],
 "metadata": {
  "kernelspec": {
   "display_name": "Python 3",
   "language": "python",
   "name": "python3"
  },
  "language_info": {
   "codemirror_mode": {
    "name": "ipython",
    "version": 3
   },
   "file_extension": ".py",
   "mimetype": "text/x-python",
   "name": "python",
   "nbconvert_exporter": "python",
   "pygments_lexer": "ipython3",
   "version": "3.6.5"
  }
 },
 "nbformat": 4,
 "nbformat_minor": 2
}
